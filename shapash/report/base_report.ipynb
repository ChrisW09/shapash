{
 "cells": [
  {
   "cell_type": "code",
   "execution_count": 1,
   "id": "filled-favorite",
   "metadata": {},
   "outputs": [],
   "source": [
    "%load_ext autoreload\n",
    "%autoreload 2"
   ]
  },
  {
   "cell_type": "markdown",
   "id": "paperback-placement",
   "metadata": {},
   "source": [
    "# Shapash Report\n",
    "\n",
    "<img align=\"right\" src=\"https://raw.githubusercontent.com/MAIF/shapash/master/docs/_static/shapash-resize.png\" width=\"300\" title=\"shapash-logo\">\n",
    "\n",
    "This report aims to provide some useful information about the data used and the model trained.  \n",
    "It was generated using the Shapash library."
   ]
  },
  {
   "cell_type": "code",
   "execution_count": 2,
   "id": "outstanding-flush",
   "metadata": {},
   "outputs": [],
   "source": [
    "dir_path = '/Users/thibaud/Documents/missions/shapash/working'\n",
    "metadata_file = '/Users/thibaud/Documents/missions/shapash/working/metadata.yaml'\n",
    "config = dict()"
   ]
  },
  {
   "cell_type": "code",
   "execution_count": 3,
   "id": "biological-rebound",
   "metadata": {},
   "outputs": [],
   "source": [
    "import os\n",
    "from shapash.explainer.smart_explainer import SmartExplainer\n",
    "from shapash.report.project_report import ProjectReport\n",
    "\n",
    "xpl = SmartExplainer()\n",
    "xpl.load(os.path.join(dir_path, 'smart_explainer.pickle'))\n",
    "report = ProjectReport(explainer=xpl, metadata_file=metadata_file, config=config)"
   ]
  },
  {
   "cell_type": "markdown",
   "id": "supposed-quality",
   "metadata": {},
   "source": [
    "## General information"
   ]
  },
  {
   "cell_type": "code",
   "execution_count": null,
   "id": "adjustable-model",
   "metadata": {},
   "outputs": [],
   "source": []
  },
  {
   "cell_type": "markdown",
   "id": "historic-friday",
   "metadata": {},
   "source": [
    "## Dataset information"
   ]
  },
  {
   "cell_type": "code",
   "execution_count": null,
   "id": "defensive-nation",
   "metadata": {},
   "outputs": [],
   "source": []
  },
  {
   "cell_type": "markdown",
   "id": "compressed-difficulty",
   "metadata": {},
   "source": [
    "## Model information"
   ]
  },
  {
   "cell_type": "code",
   "execution_count": null,
   "id": "purple-capture",
   "metadata": {},
   "outputs": [],
   "source": []
  },
  {
   "cell_type": "markdown",
   "id": "placed-surface",
   "metadata": {},
   "source": [
    "## Dataset analysis"
   ]
  },
  {
   "cell_type": "code",
   "execution_count": null,
   "id": "secure-rings",
   "metadata": {},
   "outputs": [],
   "source": []
  },
  {
   "cell_type": "markdown",
   "id": "sexual-controversy",
   "metadata": {},
   "source": [
    "## Model explainability"
   ]
  },
  {
   "cell_type": "code",
   "execution_count": null,
   "id": "soviet-chain",
   "metadata": {},
   "outputs": [],
   "source": []
  },
  {
   "cell_type": "markdown",
   "id": "affecting-prague",
   "metadata": {},
   "source": [
    "## Model performance"
   ]
  },
  {
   "cell_type": "code",
   "execution_count": null,
   "id": "flush-usage",
   "metadata": {},
   "outputs": [],
   "source": []
  }
 ],
 "metadata": {
  "hide_input": false,
  "kernelspec": {
   "display_name": "Python 3",
   "language": "python",
   "name": "python3"
  },
  "language_info": {
   "codemirror_mode": {
    "name": "ipython",
    "version": 3
   },
   "file_extension": ".py",
   "mimetype": "text/x-python",
   "name": "python",
   "nbconvert_exporter": "python",
   "pygments_lexer": "ipython3",
   "version": "3.8.5"
  },
  "toc": {
   "base_numbering": 1,
   "nav_menu": {},
   "number_sections": true,
   "sideBar": true,
   "skip_h1_title": false,
   "title_cell": "Table of Contents",
   "title_sidebar": "Contents",
   "toc_cell": false,
   "toc_position": {},
   "toc_section_display": true,
   "toc_window_display": false
  }
 },
 "nbformat": 4,
 "nbformat_minor": 5
}
