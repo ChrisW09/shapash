{
 "cells": [
  {
   "cell_type": "code",
   "execution_count": null,
   "id": "filled-favorite",
   "metadata": {},
   "outputs": [],
   "source": [
    "%load_ext autoreload\n",
    "%autoreload 2"
   ]
  },
  {
   "cell_type": "markdown",
   "id": "plain-glucose",
   "metadata": {},
   "source": [
    "# Shapash Report\n",
    "\n",
    "<img align=\"right\" src=\"https://raw.githubusercontent.com/MAIF/shapash/master/docs/_static/shapash-resize.png\" width=\"300\" title=\"shapash-logo\">\n",
    "\n",
    "This report aims to provide some useful information about the data used and the model trained.  \n",
    "It was generated using the Shapash library."
   ]
  },
  {
   "cell_type": "code",
   "execution_count": null,
   "id": "coordinate-shower",
   "metadata": {
    "tags": [
     "parameters"
    ]
   },
   "outputs": [],
   "source": [
    "dir_path = '/Users/thibaud/Documents/missions/shapash/working'\n",
    "metadata_file = '/Users/thibaud/Documents/missions/shapash/working/metadata.yaml'\n",
    "config = dict()"
   ]
  },
  {
   "cell_type": "code",
   "execution_count": null,
   "id": "atlantic-fever",
   "metadata": {},
   "outputs": [],
   "source": [
    "import os\n",
    "from shapash.explainer.smart_explainer import SmartExplainer\n",
    "from shapash.report.project_report import ProjectReport\n",
    "\n",
    "xpl = SmartExplainer()\n",
    "xpl.load(os.path.join(dir_path, 'smart_explainer.pickle'))\n",
    "report = ProjectReport(explainer=xpl, metadata_file=metadata_file, config=config)"
   ]
  },
  {
   "cell_type": "markdown",
   "id": "respiratory-officer",
   "metadata": {},
   "source": [
    "## General information"
   ]
  },
  {
   "cell_type": "code",
   "execution_count": null,
   "id": "robust-movement",
   "metadata": {},
   "outputs": [],
   "source": [
    "report.display_general_information()"
   ]
  },
  {
   "cell_type": "markdown",
   "id": "pacific-exchange",
   "metadata": {},
   "source": [
    "## Dataset information"
   ]
  },
  {
   "cell_type": "code",
   "execution_count": null,
   "id": "southeast-origin",
   "metadata": {},
   "outputs": [],
   "source": [
    "report.display_dataset_information()"
   ]
  },
  {
   "cell_type": "markdown",
   "id": "steady-transfer",
   "metadata": {},
   "source": [
    "## Model information"
   ]
  },
  {
   "cell_type": "code",
   "execution_count": null,
   "id": "serial-bulgaria",
   "metadata": {},
   "outputs": [],
   "source": [
    "report.display_model_information()"
   ]
  },
  {
   "cell_type": "markdown",
   "id": "beginning-silicon",
   "metadata": {},
   "source": [
    "## Dataset analysis"
   ]
  },
  {
   "cell_type": "markdown",
   "id": "attempted-bikini",
   "metadata": {},
   "source": [
    "## Model explainability"
   ]
  },
  {
   "cell_type": "code",
   "execution_count": null,
   "id": "secondary-dividend",
   "metadata": {},
   "outputs": [],
   "source": []
  },
  {
   "cell_type": "markdown",
   "id": "australian-photograph",
   "metadata": {},
   "source": [
    "## Model performance"
   ]
  },
  {
   "cell_type": "code",
   "execution_count": null,
   "id": "breeding-techno",
   "metadata": {},
   "outputs": [],
   "source": []
  },
  {
   "cell_type": "code",
   "execution_count": null,
   "id": "arbitrary-baker",
   "metadata": {},
   "outputs": [],
   "source": []
  }
 ],
 "metadata": {
  "celltoolbar": "Tags",
  "hide_input": false,
  "kernelspec": {
   "display_name": "Python 3",
   "language": "python",
   "name": "python3"
  },
  "language_info": {
   "codemirror_mode": {
    "name": "ipython",
    "version": 3
   },
   "file_extension": ".py",
   "mimetype": "text/x-python",
   "name": "python",
   "nbconvert_exporter": "python",
   "pygments_lexer": "ipython3",
   "version": "3.8.5"
  },
  "toc": {
   "base_numbering": 1,
   "nav_menu": {},
   "number_sections": true,
   "sideBar": true,
   "skip_h1_title": false,
   "title_cell": "Table of Contents",
   "title_sidebar": "Contents",
   "toc_cell": false,
   "toc_position": {},
   "toc_section_display": true,
   "toc_window_display": false
  }
 },
 "nbformat": 4,
 "nbformat_minor": 5
}
