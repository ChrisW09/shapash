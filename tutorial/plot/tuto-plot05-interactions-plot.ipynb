{
 "cells": [
  {
   "cell_type": "markdown",
   "id": "continued-hamburg",
   "metadata": {},
   "source": [
    "# Interactions plot\n",
    "\n",
    "Most explainability plots only allow the user to analyze one variable at a time. \n",
    "\n",
    "**Interactions plots are an interesting way to visualize a couple of variables and their corresponding contribution to the model output.**\n",
    "\n",
    "Shapash integrates two methods that allow to display such interactions for several individuals : `interactions_plot` and `top_interactions_plot`.\n",
    "\n",
    "<b>This tutorial </b>presents how to use both methods to get more insights about your model and how two variables interact with it.\n",
    "\n",
    "Content :\n",
    "- Loading dataset and fitting a model\n",
    "- Declare and compile Shapash smart explainer\n",
    "- Plot top interaction values\n",
    "- Plot a chosen couple of variables\n",
    "\n",
    "We used Kaggle's [Titanic](https://www.kaggle.com/c/titanic/data) dataset"
   ]
  },
  {
   "cell_type": "code",
   "execution_count": 1,
   "id": "oriented-jewelry",
   "metadata": {},
   "outputs": [],
   "source": [
    "import pandas as pd\n",
    "from category_encoders import OrdinalEncoder\n",
    "from xgboost import XGBClassifier\n",
    "from sklearn.model_selection import train_test_split"
   ]
  },
  {
   "cell_type": "markdown",
   "id": "enclosed-hartford",
   "metadata": {},
   "source": [
    "## Building Supervized Model \n",
    "Load Titanic data"
   ]
  },
  {
   "cell_type": "code",
   "execution_count": 3,
   "id": "compressed-jimmy",
   "metadata": {},
   "outputs": [],
   "source": [
    "from shapash.data.data_loader import data_loading\n",
    "titanic_df, titanic_dict = data_loading('titanic')\n",
    "del titanic_df['Name']\n",
    "y_df=titanic_df['Survived']\n",
    "X_df=titanic_df[titanic_df.columns.difference(['Survived'])]"
   ]
  },
  {
   "cell_type": "code",
   "execution_count": 4,
   "id": "interpreted-protein",
   "metadata": {},
   "outputs": [
    {
     "data": {
      "text/html": [
       "<div>\n",
       "<style scoped>\n",
       "    .dataframe tbody tr th:only-of-type {\n",
       "        vertical-align: middle;\n",
       "    }\n",
       "\n",
       "    .dataframe tbody tr th {\n",
       "        vertical-align: top;\n",
       "    }\n",
       "\n",
       "    .dataframe thead th {\n",
       "        text-align: right;\n",
       "    }\n",
       "</style>\n",
       "<table border=\"1\" class=\"dataframe\">\n",
       "  <thead>\n",
       "    <tr style=\"text-align: right;\">\n",
       "      <th></th>\n",
       "      <th>Survived</th>\n",
       "      <th>Pclass</th>\n",
       "      <th>Sex</th>\n",
       "      <th>Age</th>\n",
       "      <th>SibSp</th>\n",
       "      <th>Parch</th>\n",
       "      <th>Fare</th>\n",
       "      <th>Embarked</th>\n",
       "      <th>Title</th>\n",
       "    </tr>\n",
       "    <tr>\n",
       "      <th>PassengerId</th>\n",
       "      <th></th>\n",
       "      <th></th>\n",
       "      <th></th>\n",
       "      <th></th>\n",
       "      <th></th>\n",
       "      <th></th>\n",
       "      <th></th>\n",
       "      <th></th>\n",
       "      <th></th>\n",
       "    </tr>\n",
       "  </thead>\n",
       "  <tbody>\n",
       "    <tr>\n",
       "      <th>1</th>\n",
       "      <td>0</td>\n",
       "      <td>Third class</td>\n",
       "      <td>male</td>\n",
       "      <td>22.0</td>\n",
       "      <td>1</td>\n",
       "      <td>0</td>\n",
       "      <td>7.25</td>\n",
       "      <td>Southampton</td>\n",
       "      <td>Mr</td>\n",
       "    </tr>\n",
       "    <tr>\n",
       "      <th>2</th>\n",
       "      <td>1</td>\n",
       "      <td>First class</td>\n",
       "      <td>female</td>\n",
       "      <td>38.0</td>\n",
       "      <td>1</td>\n",
       "      <td>0</td>\n",
       "      <td>71.28</td>\n",
       "      <td>Cherbourg</td>\n",
       "      <td>Mrs</td>\n",
       "    </tr>\n",
       "    <tr>\n",
       "      <th>3</th>\n",
       "      <td>1</td>\n",
       "      <td>Third class</td>\n",
       "      <td>female</td>\n",
       "      <td>26.0</td>\n",
       "      <td>0</td>\n",
       "      <td>0</td>\n",
       "      <td>7.92</td>\n",
       "      <td>Southampton</td>\n",
       "      <td>Miss</td>\n",
       "    </tr>\n",
       "    <tr>\n",
       "      <th>4</th>\n",
       "      <td>1</td>\n",
       "      <td>First class</td>\n",
       "      <td>female</td>\n",
       "      <td>35.0</td>\n",
       "      <td>1</td>\n",
       "      <td>0</td>\n",
       "      <td>53.10</td>\n",
       "      <td>Southampton</td>\n",
       "      <td>Mrs</td>\n",
       "    </tr>\n",
       "    <tr>\n",
       "      <th>5</th>\n",
       "      <td>0</td>\n",
       "      <td>Third class</td>\n",
       "      <td>male</td>\n",
       "      <td>35.0</td>\n",
       "      <td>0</td>\n",
       "      <td>0</td>\n",
       "      <td>8.05</td>\n",
       "      <td>Southampton</td>\n",
       "      <td>Mr</td>\n",
       "    </tr>\n",
       "  </tbody>\n",
       "</table>\n",
       "</div>"
      ],
      "text/plain": [
       "             Survived       Pclass     Sex   Age  SibSp  Parch   Fare  \\\n",
       "PassengerId                                                             \n",
       "1                   0  Third class    male  22.0      1      0   7.25   \n",
       "2                   1  First class  female  38.0      1      0  71.28   \n",
       "3                   1  Third class  female  26.0      0      0   7.92   \n",
       "4                   1  First class  female  35.0      1      0  53.10   \n",
       "5                   0  Third class    male  35.0      0      0   8.05   \n",
       "\n",
       "                Embarked Title  \n",
       "PassengerId                     \n",
       "1            Southampton    Mr  \n",
       "2              Cherbourg   Mrs  \n",
       "3            Southampton  Miss  \n",
       "4            Southampton   Mrs  \n",
       "5            Southampton    Mr  "
      ]
     },
     "execution_count": 4,
     "metadata": {},
     "output_type": "execute_result"
    }
   ],
   "source": [
    "titanic_df.head()"
   ]
  },
  {
   "cell_type": "code",
   "execution_count": 5,
   "id": "pharmaceutical-vegetarian",
   "metadata": {},
   "outputs": [],
   "source": [
    "from category_encoders import OrdinalEncoder\n",
    "\n",
    "categorical_features = [col for col in X_df.columns if X_df[col].dtype == 'object']\n",
    "\n",
    "encoder = OrdinalEncoder(\n",
    "    cols=categorical_features,\n",
    "    handle_unknown='ignore',\n",
    "    return_df=True).fit(X_df)\n",
    "\n",
    "X_df=encoder.transform(X_df)"
   ]
  },
  {
   "cell_type": "markdown",
   "id": "recognized-usage",
   "metadata": {},
   "source": [
    "Train / Test Split + model fitting"
   ]
  },
  {
   "cell_type": "code",
   "execution_count": 6,
   "id": "reverse-guest",
   "metadata": {},
   "outputs": [],
   "source": [
    "Xtrain, Xtest, ytrain, ytest = train_test_split(X_df, y_df, train_size=0.75, random_state=7)"
   ]
  },
  {
   "cell_type": "code",
   "execution_count": 7,
   "id": "funded-waste",
   "metadata": {},
   "outputs": [],
   "source": [
    "clf = XGBClassifier(n_estimators=200,min_child_weight=2).fit(Xtrain,ytrain)"
   ]
  },
  {
   "cell_type": "markdown",
   "id": "grave-angel",
   "metadata": {},
   "source": [
    "## Declare and Compile SmartExplainer"
   ]
  },
  {
   "cell_type": "code",
   "execution_count": 8,
   "id": "conditional-democrat",
   "metadata": {},
   "outputs": [],
   "source": [
    "from shapash.explainer.smart_explainer import SmartExplainer"
   ]
  },
  {
   "cell_type": "code",
   "execution_count": 9,
   "id": "loaded-louisiana",
   "metadata": {},
   "outputs": [],
   "source": [
    "response_dict = {0: 'Death', 1:' Survival'}"
   ]
  },
  {
   "cell_type": "code",
   "execution_count": 10,
   "id": "august-thanksgiving",
   "metadata": {},
   "outputs": [],
   "source": [
    "xpl = SmartExplainer(features_dict=titanic_dict, # Optional parameters\n",
    "                     label_dict=response_dict) # Optional parameters, dicts specify labels "
   ]
  },
  {
   "cell_type": "code",
   "execution_count": 11,
   "id": "naked-frame",
   "metadata": {},
   "outputs": [
    {
     "name": "stdout",
     "output_type": "stream",
     "text": [
      "Backend: Shap TreeExplainer\n"
     ]
    }
   ],
   "source": [
    "xpl.compile(\n",
    "    x=Xtest,\n",
    "    model=clf,\n",
    "    preprocessing=encoder, # Optional: compile step can use inverse_transform method\n",
    ")"
   ]
  },
  {
   "cell_type": "markdown",
   "id": "quiet-journalism",
   "metadata": {},
   "source": [
    "## Plot top interactions"
   ]
  },
  {
   "cell_type": "markdown",
   "id": "boxed-frost",
   "metadata": {},
   "source": [
    "Now we may want to analyze our model and in particular how some variables combinations influence the output.\n",
    "\n",
    "**Shapash allows to quickly inspect your model by showing the variables for which there is the highest chance to get interesting interactions.**\n",
    "\n",
    "To do so you can use the following method (use the button to see the different variables interactions) :"
   ]
  },
  {
   "cell_type": "code",
   "execution_count": null,
   "id": "swedish-mixer",
   "metadata": {},
   "outputs": [],
   "source": [
    "xpl.plot.top_interactions_plot(nb_top_interactions=5)"
   ]
  },
  {
   "cell_type": "markdown",
   "id": "little-watts",
   "metadata": {},
   "source": [
    "## Plot interactions between two selected variables"
   ]
  },
  {
   "cell_type": "markdown",
   "id": "deadly-attribute",
   "metadata": {},
   "source": [
    "If you want to display a particular couple of interactions just use the following method with the chosen features (here 'Sex' and 'Pclass'):"
   ]
  },
  {
   "cell_type": "code",
   "execution_count": 12,
   "id": "cellular-genealogy",
   "metadata": {},
   "outputs": [
    {
     "data": {
      "image/png": "[encoded data removed]"
     },
     "metadata": {},
     "output_type": "display_data"
    }
   ],
   "source": [
    "xpl.plot.interactions_plot('Sex', 'Pclass')"
   ]
  },
  {
   "cell_type": "markdown",
   "id": "informed-blind",
   "metadata": {},
   "source": [
    "As a quick analysis we can see on the plot that **the model learned the following points** :\n",
    "- Female passengers have :\n",
    "    - Highest chance of surviving when belonging to first or second class \n",
    "    - Less chance of surviving when belonging to third class\n",
    "- On the contrary, male passengers have :\n",
    "    - Highest chance of surviving when belonging to the third class\n",
    "    - Less chance of surviving when belonging to first or second class"
   ]
  }
 ],
 "metadata": {
  "hide_input": false,
  "kernelspec": {
   "display_name": "Python 3",
   "language": "python",
   "name": "python3"
  },
  "language_info": {
   "codemirror_mode": {
    "name": "ipython",
    "version": 3
   },
   "file_extension": ".py",
   "mimetype": "text/x-python",
   "name": "python",
   "nbconvert_exporter": "python",
   "pygments_lexer": "ipython3",
   "version": "3.8.5"
  }
 },
 "nbformat": 4,
 "nbformat_minor": 5
}
