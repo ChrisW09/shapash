{
 "cells": [
  {
   "cell_type": "code",
   "execution_count": 10,
   "metadata": {},
   "outputs": [],
   "source": [
    "import unittest\n",
    "from shapash.explainer.smart_explainer import SmartExplainer\n",
    "from sklearn.linear_model import LinearRegression\n",
    "import pandas as pd\n",
    "import numpy as np"
   ]
  },
  {
   "cell_type": "code",
   "execution_count": 11,
   "metadata": {},
   "outputs": [],
   "source": [
    "xpl = SmartExplainer()\n",
    "contributions = pd.DataFrame([[-0.1, 0.2, -0.3], [0.1, -0.2, 0.3]])\n",
    "y_pred = pd.DataFrame(data=np.array([1, 2]), columns=['pred'])\n",
    "dataframe_x = pd.DataFrame([[1, 2, 3], [1, 2, 3]])\n",
    "xpl.compile(contributions=contributions, x=dataframe_x, y_pred=y_pred, model=LinearRegression())\n",
    "xpl.filter(max_contrib=2)"
   ]
  },
  {
   "cell_type": "code",
   "execution_count": 14,
   "metadata": {},
   "outputs": [
    {
     "name": "stdout",
     "output_type": "stream",
     "text": [
      "{'rows': 1000, 'points': 1000, 'violin': 10, 'features': 20}\n"
     ]
    }
   ],
   "source": [
    "settings = {'rows': None,\n",
    "                    'points': 5200.4,\n",
    "                    'violin': -1,\n",
    "                    'features': \"oui\"}\n",
    "xpl.init_app(settings)\n",
    "print(xpl.smartapp.settings)\n",
    "assert all(isinstance(attrib, int) for k, attrib in xpl.smartapp.settings.items())"
   ]
  },
  {
   "cell_type": "code",
   "execution_count": 15,
   "metadata": {},
   "outputs": [],
   "source": [
    "settings = {'rows': 0,\n",
    "                    'points': 5200.4,\n",
    "                    'violin': -1,\n",
    "                    'features': \"oui\"}\n",
    "xpl.init_app(settings)\n",
    "assert all(attrib > 0 for k, attrib in xpl.smartapp.settings.items())"
   ]
  },
  {
   "cell_type": "code",
   "execution_count": 16,
   "metadata": {},
   "outputs": [],
   "source": [
    "settings = {'oui': 1,\n",
    "                    1: 2,\n",
    "                    \"a\": []}\n",
    "xpl.init_app(settings)\n",
    "assert all(k in ['rows', 'points', 'violin', 'features'] for k in xpl.smartapp.settings)"
   ]
  }
 ],
 "metadata": {
  "kernelspec": {
   "display_name": "env_shapash38_dev",
   "language": "python",
   "name": "env_shapash38_dev"
  },
  "language_info": {
   "codemirror_mode": {
    "name": "ipython",
    "version": 3
   },
   "file_extension": ".py",
   "mimetype": "text/x-python",
   "name": "python",
   "nbconvert_exporter": "python",
   "pygments_lexer": "ipython3",
   "version": "3.8.10"
  },
  "toc": {
   "base_numbering": 1,
   "nav_menu": {},
   "number_sections": true,
   "sideBar": true,
   "skip_h1_title": false,
   "title_cell": "Table of Contents",
   "title_sidebar": "Contents",
   "toc_cell": false,
   "toc_position": {},
   "toc_section_display": true,
   "toc_window_display": false
  }
 },
 "nbformat": 4,
 "nbformat_minor": 4
}
